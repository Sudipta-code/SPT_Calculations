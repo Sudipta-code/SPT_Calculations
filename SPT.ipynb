{
 "cells": [
  {
   "cell_type": "code",
   "execution_count": 93,
   "id": "c2890ad9",
   "metadata": {},
   "outputs": [],
   "source": [
    "import numpy as np\n",
    "import scipy as sp\n",
    "import math\n",
    "%matplotlib inline\n",
    "import matplotlib.pyplot as plt"
   ]
  },
  {
   "cell_type": "code",
   "execution_count": 94,
   "id": "419cbab0",
   "metadata": {},
   "outputs": [],
   "source": [
    "R=8.314462 #J⋅K^-1⋅mol^−1\n",
    "T=298     #K\n",
    "v= 18.07  #(molar volume)cm^3 mol^-1 \n",
    "N_av=6.023E+23"
   ]
  },
  {
   "cell_type": "markdown",
   "id": "f2f68cfb",
   "metadata": {},
   "source": [
    "Working equations:\n",
    "$$\\Delta{G_{c}}=RT[K_{0}+K_{1}(\\frac{{\\sigma}_{c}}{{\\sigma}_{1}})+K_{2}(\\frac{{\\sigma}_{c}}{{\\sigma}_{1}})^{2}]$$ \n",
    "   where, $K_{0}=-ln(1-\\xi)$ ; $K_{1}=u=\\frac{3\\xi}{(1-\\xi)}$; $K_{2}=\\frac{u(u+2)}{2}$ \n",
    "\n",
    "$$\\Delta{H_{c}}=[\\xi\\alpha \\frac{RT^{2}}{(1-\\xi)^{3}}] [(1-\\xi)^{2}+3(1-\\xi)(\\frac{{\\sigma}_{c}}{{\\sigma}_{1}}) + 3(1+2\\xi)(\\frac{{\\sigma}_{c}}{{\\sigma}_{1}})^{2}]$$ \n",
    "$$\\Delta{H_{c}}=[\\xi\\alpha \\frac{RT^{2}}{(1-\\xi)^{3}}] [A_{0}+A_{1}(\\frac{{\\sigma}_{c}}{{\\sigma}_{1}})+ A_{2}(\\frac{{\\sigma}_{c}}{{\\sigma}_{1}})^{2}]$$ \n",
    "    where, $A_{0}=(1-\\xi)^{2}$ ; $A_{1}=3(1-\\xi)$ ; $A_{2}= 3(1+2\\xi)$"
   ]
  },
  {
   "cell_type": "code",
   "execution_count": 95,
   "id": "818c4fed",
   "metadata": {},
   "outputs": [],
   "source": [
    "epsilon = 0.383\n",
    "alpha = 0.257E-03\n",
    "r_c = 0.0001\n",
    "sigma_1=2.80\n",
    "r=sigma_1/2.0\n",
    "f1=open('spt.data','a')\n",
    "f2=open('spt_delG.data','w')\n",
    "f3=open('spt.plot','w')\n",
    "print('R_c        ', 'delG_c/ASA      ', 'delH_c/ASA     ', 'Surface tension    ', file=f2)\n",
    "print('    ',file=f2)\n",
    "print(format(0.0, '4.4f'), format(0.0, '15.5f'), format(0.0, '16.5f'),  format(433.5, '16.1f'), file=f2)\n",
    "print(format(0.0, '4.4f'), format(0.0, '15.5f'), format(0.0, '16.5f'),  format(433.5, '16.1f'), file=f3)\n",
    "for i in range (0,50000):\n",
    "    r_c+=0.0005\n",
    "    sigma_c = 2.0*r_c\n",
    "    \n",
    "    #Free energy of solvation\n",
    "    K0=-np.log(1-epsilon)\n",
    "    K1= 3.0*epsilon/(1-epsilon)\n",
    "    K2= (K1*(K1+2))/2.0\n",
    "    sigma= (sigma_c/sigma_1)\n",
    "    R_c = r_c + r\n",
    "    delG_c = R*T*((K0+(K1*(sigma))+(K2*(sigma)**2)))\n",
    "    delG_c_ASA = delG_c/(4.0*math.pi*(R_c**2))\n",
    "    \n",
    "    #Enthalpy\n",
    "    A0 = (1-(epsilon**2))\n",
    "    A1 = 3*(1-epsilon)\n",
    "    A2 = 3*(1+(2*epsilon))\n",
    "    delH_c = (epsilon*alpha*((R*T**2)/(1-epsilon)**3))*(A0 + A1*(sigma) + A2*((sigma)**2))\n",
    "    delH_c_ASA = delH_c/(4.0*math.pi*(R_c**2))\n",
    "    print(format(R_c, '.2f'), format(delG_c_Rc, '.3f'), file=f1)\n",
    "    print(format(R_c, '6.4f'), format(delG_c_ASA, '15.5f'), format(delH_c_ASA, '16.5f'), format(433.5, '16.1f'), file=f2)\n",
    "    print(format(R_c, '6.4f'), format(delG_c_ASA, '15.5f'), format(delH_c_ASA, '16.5f'), format(433.5, '16.1f'), file=f3)   "
   ]
  },
  {
   "cell_type": "code",
   "execution_count": 96,
   "id": "ed184762",
   "metadata": {},
   "outputs": [
    {
     "data": {
      "image/png": "[encoded data removed]",
      "text/plain": [
       "<Figure size 432x288 with 1 Axes>"
      ]
     },
     "metadata": {
      "needs_background": "light"
     },
     "output_type": "display_data"
    }
   ],
   "source": [
    "data = np.loadtxt('spt.plot')\n",
    "Rc = data[:, 0]\n",
    "delGc = data[:, 1]\n",
    "delHc = data[:, 2]\n",
    "gamma = data[:, 3]\n",
    "plt.plot(Rc, delGc,'g-',label = r'$\\Delta G_{c}/ASA$')\n",
    "plt.plot(Rc, delHc,'r--',label = r'$\\Delta H_{c}/ASA$')\n",
    "plt.plot(Rc, gamma,'b-',label = r'$\\gamma$' )\n",
    "plt.title('Cavity thermodynamics using SPT')\n",
    "plt.xlabel('$R_{c}(nm)$$\\longrightarrow$')\n",
    "plt.ylabel('J.$mol^{-1}.angstrom^{-2}$$\\longrightarrow$')\n",
    "plt.legend()\n",
    "\n",
    "plt.savefig('spt_delG_delH.jpg')"
   ]
  },
  {
   "cell_type": "code",
   "execution_count": null,
   "id": "989c94d3",
   "metadata": {},
   "outputs": [],
   "source": []
  }
 ],
 "metadata": {
  "kernelspec": {
   "display_name": "Python 3",
   "language": "python",
   "name": "python3"
  },
  "language_info": {
   "codemirror_mode": {
    "name": "ipython",
    "version": 3
   },
   "file_extension": ".py",
   "mimetype": "text/x-python",
   "name": "python",
   "nbconvert_exporter": "python",
   "pygments_lexer": "ipython3",
   "version": "3.8.8"
  }
 },
 "nbformat": 4,
 "nbformat_minor": 5
}
